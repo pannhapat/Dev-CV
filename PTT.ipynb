{
  "nbformat": 4,
  "nbformat_minor": 0,
  "metadata": {
    "colab": {
      "name": "PTT.ipynb",
      "provenance": [],
      "collapsed_sections": [],
      "authorship_tag": "ABX9TyOJOuhohtY0wf72EhOt68I5",
      "include_colab_link": true
    },
    "kernelspec": {
      "name": "python3",
      "display_name": "Python 3"
    }
  },
  "cells": [
    {
      "cell_type": "markdown",
      "metadata": {
        "id": "view-in-github",
        "colab_type": "text"
      },
      "source": [
        "<a href=\"https://colab.research.google.com/github/pannhapat/Dev-CV/blob/master/PTT.ipynb\" target=\"_parent\"><img src=\"https://colab.research.google.com/assets/colab-badge.svg\" alt=\"Open In Colab\"/></a>"
      ]
    },
    {
      "cell_type": "code",
      "metadata": {
        "id": "LNWk4JTt2QeD",
        "colab_type": "code",
        "outputId": "2e0cb664-ca21-468c-94a4-bdeba4a88eaf",
        "colab": {
          "base_uri": "https://localhost:8080/",
          "height": 479
        }
      },
      "source": [
        "!pip install zeep\n",
        "\n",
        "!pip install lxml\n"
      ],
      "execution_count": 0,
      "outputs": [
        {
          "output_type": "stream",
          "text": [
            "Collecting zeep\n",
            "\u001b[?25l  Downloading https://files.pythonhosted.org/packages/5e/7e/31dc5db254f4bd788f03947bae4ee38117789f2d4872a4c11a05b57700db/zeep-3.4.0-py2.py3-none-any.whl (99kB)\n",
            "\r\u001b[K     |███▎                            | 10kB 15.7MB/s eta 0:00:01\r\u001b[K     |██████▋                         | 20kB 1.8MB/s eta 0:00:01\r\u001b[K     |██████████                      | 30kB 2.2MB/s eta 0:00:01\r\u001b[K     |█████████████▏                  | 40kB 1.7MB/s eta 0:00:01\r\u001b[K     |████████████████▌               | 51kB 2.1MB/s eta 0:00:01\r\u001b[K     |███████████████████▉            | 61kB 2.5MB/s eta 0:00:01\r\u001b[K     |███████████████████████▏        | 71kB 2.7MB/s eta 0:00:01\r\u001b[K     |██████████████████████████▍     | 81kB 2.9MB/s eta 0:00:01\r\u001b[K     |█████████████████████████████▊  | 92kB 3.2MB/s eta 0:00:01\r\u001b[K     |████████████████████████████████| 102kB 2.8MB/s \n",
            "\u001b[?25hRequirement already satisfied: defusedxml>=0.4.1 in /usr/local/lib/python3.6/dist-packages (from zeep) (0.6.0)\n",
            "Requirement already satisfied: lxml>=3.1.0 in /usr/local/lib/python3.6/dist-packages (from zeep) (4.2.6)\n",
            "Requirement already satisfied: pytz in /usr/local/lib/python3.6/dist-packages (from zeep) (2018.9)\n",
            "Collecting cached-property>=1.3.0\n",
            "  Downloading https://files.pythonhosted.org/packages/3b/86/85c1be2e8db9e13ef9a350aecd6dea292bd612fa288c2f40d035bb750ded/cached_property-1.5.1-py2.py3-none-any.whl\n",
            "Collecting isodate>=0.5.4\n",
            "\u001b[?25l  Downloading https://files.pythonhosted.org/packages/9b/9f/b36f7774ff5ea8e428fdcfc4bb332c39ee5b9362ddd3d40d9516a55221b2/isodate-0.6.0-py2.py3-none-any.whl (45kB)\n",
            "\u001b[K     |████████████████████████████████| 51kB 6.1MB/s \n",
            "\u001b[?25hRequirement already satisfied: six>=1.9.0 in /usr/local/lib/python3.6/dist-packages (from zeep) (1.12.0)\n",
            "Collecting appdirs>=1.4.0\n",
            "  Downloading https://files.pythonhosted.org/packages/56/eb/810e700ed1349edde4cbdc1b2a21e28cdf115f9faf263f6bbf8447c1abf3/appdirs-1.4.3-py2.py3-none-any.whl\n",
            "Collecting requests-toolbelt>=0.7.1\n",
            "\u001b[?25l  Downloading https://files.pythonhosted.org/packages/60/ef/7681134338fc097acef8d9b2f8abe0458e4d87559c689a8c306d0957ece5/requests_toolbelt-0.9.1-py2.py3-none-any.whl (54kB)\n",
            "\u001b[K     |████████████████████████████████| 61kB 8.1MB/s \n",
            "\u001b[?25hRequirement already satisfied: requests>=2.7.0 in /usr/local/lib/python3.6/dist-packages (from zeep) (2.21.0)\n",
            "Requirement already satisfied: attrs>=17.2.0 in /usr/local/lib/python3.6/dist-packages (from zeep) (19.3.0)\n",
            "Requirement already satisfied: idna<2.9,>=2.5 in /usr/local/lib/python3.6/dist-packages (from requests>=2.7.0->zeep) (2.8)\n",
            "Requirement already satisfied: certifi>=2017.4.17 in /usr/local/lib/python3.6/dist-packages (from requests>=2.7.0->zeep) (2019.11.28)\n",
            "Requirement already satisfied: urllib3<1.25,>=1.21.1 in /usr/local/lib/python3.6/dist-packages (from requests>=2.7.0->zeep) (1.24.3)\n",
            "Requirement already satisfied: chardet<3.1.0,>=3.0.2 in /usr/local/lib/python3.6/dist-packages (from requests>=2.7.0->zeep) (3.0.4)\n",
            "Installing collected packages: cached-property, isodate, appdirs, requests-toolbelt, zeep\n",
            "Successfully installed appdirs-1.4.3 cached-property-1.5.1 isodate-0.6.0 requests-toolbelt-0.9.1 zeep-3.4.0\n",
            "Requirement already satisfied: lxml in /usr/local/lib/python3.6/dist-packages (4.2.6)\n"
          ],
          "name": "stdout"
        }
      ]
    },
    {
      "cell_type": "code",
      "metadata": {
        "id": "BhDhwXG72aJ3",
        "colab_type": "code",
        "outputId": "cdcb91c6-247a-4173-9bba-5403d8a456cc",
        "colab": {
          "base_uri": "https://localhost:8080/",
          "height": 1000
        }
      },
      "source": [
        "from zeep import Client\n",
        "from lxml import etree\n",
        "\n",
        "client = Client('https://www.pttor.com/OilPrice.asmx?WSDL')\n",
        "OilPrice = client.service.CurrentOilPrice(Language='th')\n",
        "print(OilPrice)"
      ],
      "execution_count": 0,
      "outputs": [
        {
          "output_type": "stream",
          "text": [
            "<PTTOR_DS>\n",
            "  <FUEL>\n",
            "    <PRICE_DATE>2/7/2020 5:00:00 AM</PRICE_DATE>\n",
            "    <PRODUCT>Gasoline 95</PRODUCT>\n",
            "    <PRICE>32.76</PRICE>\n",
            "  </FUEL>\n",
            "  <FUEL>\n",
            "    <PRICE_DATE>6/5/2015 5:00:00 AM</PRICE_DATE>\n",
            "    <PRODUCT>Gasoline 91</PRODUCT>\n",
            "  </FUEL>\n",
            "  <FUEL>\n",
            "    <PRICE_DATE>2/7/2020 5:00:00 AM</PRICE_DATE>\n",
            "    <PRODUCT>Diesel</PRODUCT>\n",
            "    <PRICE>25.69</PRICE>\n",
            "  </FUEL>\n",
            "  <FUEL>\n",
            "    <PRICE_DATE>2/7/2020 5:00:00 AM</PRICE_DATE>\n",
            "    <PRODUCT>Gasohol 91</PRODUCT>\n",
            "    <PRICE>25.08</PRICE>\n",
            "  </FUEL>\n",
            "  <FUEL>\n",
            "    <PRICE_DATE>2/7/2020 5:00:00 AM</PRICE_DATE>\n",
            "    <PRODUCT>Gasohol E20</PRODUCT>\n",
            "    <PRICE>22.34</PRICE>\n",
            "  </FUEL>\n",
            "  <FUEL>\n",
            "    <PRICE_DATE>1/16/2020 12:01:00 AM</PRICE_DATE>\n",
            "    <PRODUCT>NGV</PRODUCT>\n",
            "    <PRICE>15.35</PRICE>\n",
            "  </FUEL>\n",
            "  <FUEL>\n",
            "    <PRICE_DATE>2/7/2020 5:00:00 AM</PRICE_DATE>\n",
            "    <PRODUCT>Gasohol 95</PRODUCT>\n",
            "    <PRICE>25.35</PRICE>\n",
            "  </FUEL>\n",
            "  <FUEL>\n",
            "    <PRICE_DATE>10/1/2009 5:00:00 AM</PRICE_DATE>\n",
            "    <PRODUCT>Diesel Palm</PRODUCT>\n",
            "  </FUEL>\n",
            "  <FUEL>\n",
            "    <PRICE_DATE>4/30/2008 5:00:00 AM</PRICE_DATE>\n",
            "    <PRODUCT>Bio Diesel</PRODUCT>\n",
            "    <PRICE>32.74</PRICE>\n",
            "  </FUEL>\n",
            "  <FUEL>\n",
            "    <PRICE_DATE>3/1/2011 6:00:00 AM</PRICE_DATE>\n",
            "    <PRODUCT>Diesel B5</PRODUCT>\n",
            "  </FUEL>\n",
            "  <FUEL>\n",
            "    <PRICE_DATE>2/7/2020 5:00:00 AM</PRICE_DATE>\n",
            "    <PRODUCT>Gasohol E85</PRODUCT>\n",
            "    <PRICE>18.89</PRICE>\n",
            "  </FUEL>\n",
            "  <FUEL>\n",
            "    <PRICE_DATE>2/7/2020 5:00:00 AM</PRICE_DATE>\n",
            "    <PRODUCT>Premium Diesel</PRODUCT>\n",
            "    <PRICE>29.54</PRICE>\n",
            "  </FUEL>\n",
            "  <FUEL>\n",
            "    <PRICE_DATE>2/7/2020 5:00:00 AM</PRICE_DATE>\n",
            "    <PRODUCT>Diesel B10</PRODUCT>\n",
            "    <PRICE>23.69</PRICE>\n",
            "  </FUEL>\n",
            "  <FUEL>\n",
            "    <PRICE_DATE>2/7/2020 5:00:00 AM</PRICE_DATE>\n",
            "    <PRODUCT>Diesel B20</PRODUCT>\n",
            "    <PRICE>22.69</PRICE>\n",
            "  </FUEL>\n",
            "</PTTOR_DS>\n"
          ],
          "name": "stdout"
        }
      ]
    },
    {
      "cell_type": "code",
      "metadata": {
        "id": "7itjSbCo2mUc",
        "colab_type": "code",
        "outputId": "3fb7cdd7-69ac-4633-d3d2-29db1112f40d",
        "colab": {
          "base_uri": "https://localhost:8080/",
          "height": 34
        }
      },
      "source": [
        "# def getOilPrice(date,oilName):\n",
        "#     dx=date.split(\"-\")\n",
        "#     result = client.service.GetOilPrice('en',dx[2],dx[1],dx[0])\n",
        "#     root=etree.fromstring(result)\n",
        "#     for r in root.xpath('DataAcess'):\n",
        "#         product=r.xpath('PRODUCT/text()')[0]\n",
        "#         price=r.xpath('PRICE/txt()')or[0]\n",
        "#         if (product==oilName):\n",
        "#             result=float(price[0])\n",
        "#             return result\n",
        "\n",
        "# price = getOilPrice('2019-12-17','Blue Diesel')\n",
        "# print('Price=',price)"
      ],
      "execution_count": 0,
      "outputs": [
        {
          "output_type": "stream",
          "text": [
            "Price= None\n"
          ],
          "name": "stdout"
        }
      ]
    }
  ]
}